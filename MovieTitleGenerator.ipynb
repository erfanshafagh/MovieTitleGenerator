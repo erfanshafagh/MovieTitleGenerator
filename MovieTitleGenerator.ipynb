{
 "cells": [
  {
   "cell_type": "markdown",
   "id": "3a30ed87-379e-47d0-a7d8-ec1de6ffb152",
   "metadata": {
    "editable": true,
    "slideshow": {
     "slide_type": ""
    },
    "tags": []
   },
   "source": [
    "# Movie Name Generator"
   ]
  },
  {
   "cell_type": "markdown",
   "id": "6b6f7dd333917759",
   "metadata": {},
   "source": [
    "**Import the necessary libraries**"
   ]
  },
  {
   "cell_type": "code",
   "id": "d5a2fbcb7d58b7a7",
   "metadata": {
    "ExecuteTime": {
     "end_time": "2024-07-10T03:22:31.932627Z",
     "start_time": "2024-07-10T03:22:30.047638Z"
    }
   },
   "source": [
    "import random\n",
    "import re\n",
    "import pandas as pd\n",
    "import torch\n",
    "import torch.nn as nn\n",
    "import torch.optim as optim\n",
    "import torch.nn.functional as F\n",
    "import matplotlib.pyplot as plt"
   ],
   "outputs": [],
   "execution_count": 1
  },
  {
   "cell_type": "markdown",
   "id": "7f62b458ef5dcaed",
   "metadata": {},
   "source": [
    "**Check if GPU and CUDA are available** "
   ]
  },
  {
   "cell_type": "code",
   "id": "56801c1ed115cdee",
   "metadata": {
    "ExecuteTime": {
     "end_time": "2024-07-10T03:22:35.469203Z",
     "start_time": "2024-07-10T03:22:34.274673Z"
    }
   },
   "source": [
    "print(torch.cuda.is_available())\n",
    "print(torch.cuda.device_count())\n",
    "print(torch.cuda.get_device_name(0) if torch.cuda.is_available() else 'No GPU found')\n",
    "device = torch.device(\"cuda\" if torch.cuda.is_available() else \"cpu\")\n",
    "print(f'Using device: {device}')"
   ],
   "outputs": [
    {
     "name": "stdout",
     "output_type": "stream",
     "text": [
      "True\n",
      "1\n",
      "NVIDIA GeForce RTX 3050 Ti Laptop GPU\n",
      "Using device: cuda\n"
     ]
    }
   ],
   "execution_count": 2
  },
  {
   "cell_type": "markdown",
   "id": "3bda1b5a65045d7b",
   "metadata": {},
   "source": [
    "### **Data preparation**\n",
    "**Read the dataset**"
   ]
  },
  {
   "cell_type": "code",
   "id": "38aff8c65398a9ec",
   "metadata": {
    "ExecuteTime": {
     "end_time": "2024-07-10T03:22:38.095537Z",
     "start_time": "2024-07-10T03:22:38.040955Z"
    }
   },
   "source": [
    "# Path to your CSV file\n",
    "file_path = 'netflix_titles.csv'\n",
    "\n",
    "# Read the CSV file\n",
    "df = pd.read_csv(file_path)\n",
    "\n",
    "df.head()"
   ],
   "outputs": [
    {
     "data": {
      "text/plain": [
       "  show_id     type                  title         director  \\\n",
       "0      s1    Movie   Dick Johnson Is Dead  Kirsten Johnson   \n",
       "1      s2  TV Show          Blood & Water              NaN   \n",
       "2      s3  TV Show              Ganglands  Julien Leclercq   \n",
       "3      s4  TV Show  Jailbirds New Orleans              NaN   \n",
       "4      s5  TV Show           Kota Factory              NaN   \n",
       "\n",
       "                                                cast        country  \\\n",
       "0                                                NaN  United States   \n",
       "1  Ama Qamata, Khosi Ngema, Gail Mabalane, Thaban...   South Africa   \n",
       "2  Sami Bouajila, Tracy Gotoas, Samuel Jouy, Nabi...            NaN   \n",
       "3                                                NaN            NaN   \n",
       "4  Mayur More, Jitendra Kumar, Ranjan Raj, Alam K...          India   \n",
       "\n",
       "           date_added  release_year rating   duration  \\\n",
       "0  September 25, 2021          2020  PG-13     90 min   \n",
       "1  September 24, 2021          2021  TV-MA  2 Seasons   \n",
       "2  September 24, 2021          2021  TV-MA   1 Season   \n",
       "3  September 24, 2021          2021  TV-MA   1 Season   \n",
       "4  September 24, 2021          2021  TV-MA  2 Seasons   \n",
       "\n",
       "                                           listed_in  \\\n",
       "0                                      Documentaries   \n",
       "1    International TV Shows, TV Dramas, TV Mysteries   \n",
       "2  Crime TV Shows, International TV Shows, TV Act...   \n",
       "3                             Docuseries, Reality TV   \n",
       "4  International TV Shows, Romantic TV Shows, TV ...   \n",
       "\n",
       "                                         description  \n",
       "0  As her father nears the end of his life, filmm...  \n",
       "1  After crossing paths at a party, a Cape Town t...  \n",
       "2  To protect his family from a powerful drug lor...  \n",
       "3  Feuds, flirtations and toilet talk go down amo...  \n",
       "4  In a city of coaching centers known to train I...  "
      ],
      "text/html": [
       "<div>\n",
       "<style scoped>\n",
       "    .dataframe tbody tr th:only-of-type {\n",
       "        vertical-align: middle;\n",
       "    }\n",
       "\n",
       "    .dataframe tbody tr th {\n",
       "        vertical-align: top;\n",
       "    }\n",
       "\n",
       "    .dataframe thead th {\n",
       "        text-align: right;\n",
       "    }\n",
       "</style>\n",
       "<table border=\"1\" class=\"dataframe\">\n",
       "  <thead>\n",
       "    <tr style=\"text-align: right;\">\n",
       "      <th></th>\n",
       "      <th>show_id</th>\n",
       "      <th>type</th>\n",
       "      <th>title</th>\n",
       "      <th>director</th>\n",
       "      <th>cast</th>\n",
       "      <th>country</th>\n",
       "      <th>date_added</th>\n",
       "      <th>release_year</th>\n",
       "      <th>rating</th>\n",
       "      <th>duration</th>\n",
       "      <th>listed_in</th>\n",
       "      <th>description</th>\n",
       "    </tr>\n",
       "  </thead>\n",
       "  <tbody>\n",
       "    <tr>\n",
       "      <th>0</th>\n",
       "      <td>s1</td>\n",
       "      <td>Movie</td>\n",
       "      <td>Dick Johnson Is Dead</td>\n",
       "      <td>Kirsten Johnson</td>\n",
       "      <td>NaN</td>\n",
       "      <td>United States</td>\n",
       "      <td>September 25, 2021</td>\n",
       "      <td>2020</td>\n",
       "      <td>PG-13</td>\n",
       "      <td>90 min</td>\n",
       "      <td>Documentaries</td>\n",
       "      <td>As her father nears the end of his life, filmm...</td>\n",
       "    </tr>\n",
       "    <tr>\n",
       "      <th>1</th>\n",
       "      <td>s2</td>\n",
       "      <td>TV Show</td>\n",
       "      <td>Blood &amp; Water</td>\n",
       "      <td>NaN</td>\n",
       "      <td>Ama Qamata, Khosi Ngema, Gail Mabalane, Thaban...</td>\n",
       "      <td>South Africa</td>\n",
       "      <td>September 24, 2021</td>\n",
       "      <td>2021</td>\n",
       "      <td>TV-MA</td>\n",
       "      <td>2 Seasons</td>\n",
       "      <td>International TV Shows, TV Dramas, TV Mysteries</td>\n",
       "      <td>After crossing paths at a party, a Cape Town t...</td>\n",
       "    </tr>\n",
       "    <tr>\n",
       "      <th>2</th>\n",
       "      <td>s3</td>\n",
       "      <td>TV Show</td>\n",
       "      <td>Ganglands</td>\n",
       "      <td>Julien Leclercq</td>\n",
       "      <td>Sami Bouajila, Tracy Gotoas, Samuel Jouy, Nabi...</td>\n",
       "      <td>NaN</td>\n",
       "      <td>September 24, 2021</td>\n",
       "      <td>2021</td>\n",
       "      <td>TV-MA</td>\n",
       "      <td>1 Season</td>\n",
       "      <td>Crime TV Shows, International TV Shows, TV Act...</td>\n",
       "      <td>To protect his family from a powerful drug lor...</td>\n",
       "    </tr>\n",
       "    <tr>\n",
       "      <th>3</th>\n",
       "      <td>s4</td>\n",
       "      <td>TV Show</td>\n",
       "      <td>Jailbirds New Orleans</td>\n",
       "      <td>NaN</td>\n",
       "      <td>NaN</td>\n",
       "      <td>NaN</td>\n",
       "      <td>September 24, 2021</td>\n",
       "      <td>2021</td>\n",
       "      <td>TV-MA</td>\n",
       "      <td>1 Season</td>\n",
       "      <td>Docuseries, Reality TV</td>\n",
       "      <td>Feuds, flirtations and toilet talk go down amo...</td>\n",
       "    </tr>\n",
       "    <tr>\n",
       "      <th>4</th>\n",
       "      <td>s5</td>\n",
       "      <td>TV Show</td>\n",
       "      <td>Kota Factory</td>\n",
       "      <td>NaN</td>\n",
       "      <td>Mayur More, Jitendra Kumar, Ranjan Raj, Alam K...</td>\n",
       "      <td>India</td>\n",
       "      <td>September 24, 2021</td>\n",
       "      <td>2021</td>\n",
       "      <td>TV-MA</td>\n",
       "      <td>2 Seasons</td>\n",
       "      <td>International TV Shows, Romantic TV Shows, TV ...</td>\n",
       "      <td>In a city of coaching centers known to train I...</td>\n",
       "    </tr>\n",
       "  </tbody>\n",
       "</table>\n",
       "</div>"
      ]
     },
     "execution_count": 3,
     "metadata": {},
     "output_type": "execute_result"
    }
   ],
   "execution_count": 3
  },
  {
   "cell_type": "markdown",
   "id": "87def8bea76f2e38",
   "metadata": {},
   "source": [
    "**Extract and preprocess the data**"
   ]
  },
  {
   "cell_type": "code",
   "id": "af5a42a993e4817c",
   "metadata": {
    "ExecuteTime": {
     "end_time": "2024-07-10T03:22:41.648425Z",
     "start_time": "2024-07-10T03:22:41.636252Z"
    }
   },
   "source": [
    "# Get the titles\n",
    "titles = df['title'].values\n",
    "\n",
    "# Regular expression to match titles with only alphabetic characters and spaces\n",
    "pattern = re.compile(r'^[a-zA-Z\\s]+$')\n",
    "\n",
    "# Lowercase and add a period at the end of each valid title\n",
    "new_titles = []\n",
    "for title in titles:\n",
    "    if pattern.match(str(title)):\n",
    "        title = str(title).replace('\\t', ' ')\n",
    "        title = str(title).replace('\\xa0', '')        \n",
    "        new_titles.append(str(title).lower() + '.')\n",
    "\n",
    "# Remove duplicates\n",
    "dataset = list(set(new_titles))\n",
    "print(f\"Number of movie titles: {len(dataset)}\")\n",
    "print(dataset[:5])"
   ],
   "outputs": [
    {
     "name": "stdout",
     "output_type": "stream",
     "text": [
      "Number of movie titles: 5976\n",
      "['cloudburst.', 'rivaaz.', 'pee mak.', 'teenage mutant ninja turtles.', 'rainbow time.']\n"
     ]
    }
   ],
   "execution_count": 4
  },
  {
   "cell_type": "markdown",
   "id": "a48f43cf47f6fe0d",
   "metadata": {},
   "source": [
    "**Character tokenization**"
   ]
  },
  {
   "cell_type": "code",
   "id": "5d392d0cb81f8d58",
   "metadata": {
    "ExecuteTime": {
     "end_time": "2024-07-10T03:22:44.374111Z",
     "start_time": "2024-07-10T03:22:44.355227Z"
    }
   },
   "source": [
    "# Get the unique characters in the dataset\n",
    "chars = sorted(list(set(''.join(dataset))))\n",
    "\n",
    "# save the characters in a dictionary\n",
    "stoi = {s:i for i,s in enumerate(chars)}\n",
    "itos = {i:s for s,i in stoi.items()}\n",
    "vocab_size = len(itos)\n",
    "\n",
    "print(itos)\n",
    "print(vocab_size)"
   ],
   "outputs": [
    {
     "name": "stdout",
     "output_type": "stream",
     "text": [
      "{0: ' ', 1: '.', 2: 'a', 3: 'b', 4: 'c', 5: 'd', 6: 'e', 7: 'f', 8: 'g', 9: 'h', 10: 'i', 11: 'j', 12: 'k', 13: 'l', 14: 'm', 15: 'n', 16: 'o', 17: 'p', 18: 'q', 19: 'r', 20: 's', 21: 't', 22: 'u', 23: 'v', 24: 'w', 25: 'x', 26: 'y', 27: 'z'}\n",
      "28\n"
     ]
    }
   ],
   "execution_count": 5
  },
  {
   "cell_type": "markdown",
   "id": "c19dd25ec683fe27",
   "metadata": {},
   "source": [
    "**Build the dataset using the tokens**"
   ]
  },
  {
   "cell_type": "code",
   "id": "9e916ff9dffa58ee",
   "metadata": {
    "ExecuteTime": {
     "end_time": "2024-07-10T03:22:49.682533Z",
     "start_time": "2024-07-10T03:22:48.315190Z"
    }
   },
   "source": [
    "# build the dataset\n",
    "block_size = 4 # context length\n",
    "\n",
    "def build_dataset(data_set):  \n",
    "    Xall, Yall = [], []\n",
    "\n",
    "    # set up the dataset\n",
    "    for title in data_set:\n",
    "        context = [1] * block_size\n",
    "        for ch in title:\n",
    "            Xall.append(context)\n",
    "            Yall.append(stoi[ch])\n",
    "            context = context[1:] + [stoi[ch]]\n",
    "\n",
    "    Xall = torch.tensor(Xall).to(device)\n",
    "    Yall = torch.tensor(Yall).to(device)\n",
    "    return Xall, Yall\n",
    "\n",
    "random.seed(2147483647)\n",
    "random.shuffle(dataset)\n",
    "n1 = int(0.9*len(dataset))\n",
    "\n",
    "Xtrain, Ytrain  = build_dataset(dataset[:n1])  # 90%\n",
    "Xtest, Ytest = build_dataset(dataset[n1:])     # 10%\n",
    "\n",
    "print(f\"\"\"Xtrain: length:{len(Xtrain):08d}  shape:{Xtrain.shape}\\tYtrain: length:{len(Ytrain):08d}  shape:{Ytrain.shape}\n",
    "Xtest:  length:{len(Xtest):08d}  shape:{Xtest.shape}\\tYtest:  length:{len(Ytest):08d}  shape:{Ytest.shape}\"\"\")"
   ],
   "outputs": [
    {
     "name": "stdout",
     "output_type": "stream",
     "text": [
      "Xtrain: length:00080441  shape:torch.Size([80441, 4])\tYtrain: length:00080441  shape:torch.Size([80441])\n",
      "Xtest:  length:00008860  shape:torch.Size([8860, 4])\tYtest:  length:00008860  shape:torch.Size([8860])\n"
     ]
    }
   ],
   "execution_count": 6
  },
  {
   "cell_type": "markdown",
   "id": "e9c8b89723332171",
   "metadata": {},
   "source": [
    "### **Define the model**\n",
    "**Set up neural network**"
   ]
  },
  {
   "cell_type": "code",
   "id": "da31379d46fcd8fc",
   "metadata": {
    "ExecuteTime": {
     "end_time": "2024-07-10T03:22:54.753790Z",
     "start_time": "2024-07-10T03:22:54.747642Z"
    }
   },
   "source": [
    "class MLP(nn.Module):\n",
    "    def __init__(self, vocab_size, n_embd, n_hidden, block_size):\n",
    "        super(MLP, self).__init__()\n",
    "        self.embedding = nn.Embedding(vocab_size, n_embd)\n",
    "        self.fc1 = nn.Linear(n_embd * block_size, n_hidden)\n",
    "        self.fc2 = nn.Linear(n_hidden, vocab_size)\n",
    "\n",
    "    def forward(self, x):\n",
    "        emb = self.embedding(x).view(x.shape[0], -1)\n",
    "        h = torch.tanh(self.fc1(emb))\n",
    "        logits = self.fc2(h)\n",
    "        return logits"
   ],
   "outputs": [],
   "execution_count": 7
  },
  {
   "metadata": {},
   "cell_type": "markdown",
   "source": "**Set up parameters**",
   "id": "123d478353524e19"
  },
  {
   "cell_type": "code",
   "id": "67e39110cc9253d",
   "metadata": {
    "ExecuteTime": {
     "end_time": "2024-07-10T03:32:04.729700Z",
     "start_time": "2024-07-10T03:32:04.711750Z"
    }
   },
   "source": [
    "torch.manual_seed(2147483647)\n",
    "n_embd = 10 # the dimensionality of the character embedding vectors\n",
    "n_hidden = 200 # the number of neurons in the hidden layer of the MLP\n",
    "likelihood = []\n",
    "loss = -1\n",
    "learning_rate = 0.1\n",
    "num_epochs = 25000\n",
    "\n",
    "# Initialize model, loss function, and optimizer\n",
    "model = MLP(vocab_size, n_embd, n_hidden, block_size).to(device)\n",
    "criterion = nn.CrossEntropyLoss()\n",
    "optimizer = optim.SGD(model.parameters(), lr=learning_rate)\n",
    "\n",
    "# Print number of parameters\n",
    "num_parameters = sum(p.numel() for p in model.parameters())\n",
    "print(f\"Number of parameters: {num_parameters}\")"
   ],
   "outputs": [
    {
     "name": "stdout",
     "output_type": "stream",
     "text": [
      "Number of parameters: 14108\n"
     ]
    }
   ],
   "execution_count": 12
  },
  {
   "metadata": {},
   "cell_type": "markdown",
   "source": "**The training loop**",
   "id": "6d22f81d61bfaf49"
  },
  {
   "cell_type": "code",
   "id": "efbcfd34cb615aba",
   "metadata": {
    "ExecuteTime": {
     "end_time": "2024-07-10T03:36:40.026883Z",
     "start_time": "2024-07-10T03:32:08.255254Z"
    }
   },
   "source": [
    "for epoch in range(num_epochs):\n",
    "    \n",
    "    # Forward pass\n",
    "    logits = model(Xtrain)\n",
    "    loss = criterion(logits, Ytrain)\n",
    "    \n",
    "    # Backward pass and optimization\n",
    "    optimizer.zero_grad()\n",
    "    loss.backward()\n",
    "    optimizer.step()\n",
    "    likelihood.append(loss.log10().item())\n",
    "\n",
    "    # Track and print stats\n",
    "    if epoch % 1000 == 0:\n",
    "        with torch.no_grad():\n",
    "            logits = model(Xtest)\n",
    "            test_loss = criterion(logits, Ytest)\n",
    "            BOLD, RESET = \"\\033[1m\", \"\\033[0m\" # ANSI escape code for bold font\n",
    "            print(f\"{epoch:5d}/{num_epochs:5d} --> (training loss: {BOLD}{loss.item():.7f}{RESET})  (validation loss: {BOLD}{test_loss.item():.7f}{RESET})\")\n",
    "\n",
    "print(f\"\\n\\nFinal train loss: {loss.item()}\\tFinal validation loss: {test_loss.item()}\\n\")"
   ],
   "outputs": [
    {
     "name": "stdout",
     "output_type": "stream",
     "text": [
      "    0/25000 --> (training loss: \u001B[1m3.3840284\u001B[0m)  (validation loss: \u001B[1m3.3558061\u001B[0m)\n",
      " 1000/25000 --> (training loss: \u001B[1m2.4891405\u001B[0m)  (validation loss: \u001B[1m2.4953291\u001B[0m)\n",
      " 2000/25000 --> (training loss: \u001B[1m2.3677926\u001B[0m)  (validation loss: \u001B[1m2.3805025\u001B[0m)\n",
      " 3000/25000 --> (training loss: \u001B[1m2.2821827\u001B[0m)  (validation loss: \u001B[1m2.3048999\u001B[0m)\n",
      " 4000/25000 --> (training loss: \u001B[1m2.2193987\u001B[0m)  (validation loss: \u001B[1m2.2556465\u001B[0m)\n",
      " 5000/25000 --> (training loss: \u001B[1m2.1690974\u001B[0m)  (validation loss: \u001B[1m2.2205100\u001B[0m)\n",
      " 6000/25000 --> (training loss: \u001B[1m2.1275136\u001B[0m)  (validation loss: \u001B[1m2.1942945\u001B[0m)\n",
      " 7000/25000 --> (training loss: \u001B[1m2.0925844\u001B[0m)  (validation loss: \u001B[1m2.1744263\u001B[0m)\n",
      " 8000/25000 --> (training loss: \u001B[1m2.0625780\u001B[0m)  (validation loss: \u001B[1m2.1588595\u001B[0m)\n",
      " 9000/25000 --> (training loss: \u001B[1m2.0364165\u001B[0m)  (validation loss: \u001B[1m2.1466420\u001B[0m)\n",
      "10000/25000 --> (training loss: \u001B[1m2.0134425\u001B[0m)  (validation loss: \u001B[1m2.1372304\u001B[0m)\n",
      "11000/25000 --> (training loss: \u001B[1m1.9931796\u001B[0m)  (validation loss: \u001B[1m2.1300783\u001B[0m)\n",
      "12000/25000 --> (training loss: \u001B[1m1.9752955\u001B[0m)  (validation loss: \u001B[1m2.1247139\u001B[0m)\n",
      "13000/25000 --> (training loss: \u001B[1m1.9595412\u001B[0m)  (validation loss: \u001B[1m2.1208262\u001B[0m)\n",
      "14000/25000 --> (training loss: \u001B[1m1.9456407\u001B[0m)  (validation loss: \u001B[1m2.1182151\u001B[0m)\n",
      "15000/25000 --> (training loss: \u001B[1m1.9332976\u001B[0m)  (validation loss: \u001B[1m2.1166046\u001B[0m)\n",
      "16000/25000 --> (training loss: \u001B[1m1.9222602\u001B[0m)  (validation loss: \u001B[1m2.1156530\u001B[0m)\n",
      "17000/25000 --> (training loss: \u001B[1m1.9123404\u001B[0m)  (validation loss: \u001B[1m2.1151083\u001B[0m)\n",
      "18000/25000 --> (training loss: \u001B[1m1.9033942\u001B[0m)  (validation loss: \u001B[1m2.1148348\u001B[0m)\n",
      "19000/25000 --> (training loss: \u001B[1m1.8952914\u001B[0m)  (validation loss: \u001B[1m2.1147768\u001B[0m)\n",
      "20000/25000 --> (training loss: \u001B[1m1.8879274\u001B[0m)  (validation loss: \u001B[1m2.1149428\u001B[0m)\n",
      "21000/25000 --> (training loss: \u001B[1m1.8812068\u001B[0m)  (validation loss: \u001B[1m2.1153305\u001B[0m)\n",
      "22000/25000 --> (training loss: \u001B[1m1.8750334\u001B[0m)  (validation loss: \u001B[1m2.1158831\u001B[0m)\n",
      "23000/25000 --> (training loss: \u001B[1m1.8693305\u001B[0m)  (validation loss: \u001B[1m2.1165214\u001B[0m)\n",
      "24000/25000 --> (training loss: \u001B[1m1.8640448\u001B[0m)  (validation loss: \u001B[1m2.1171949\u001B[0m)\n",
      "\n",
      "\n",
      "Final train loss: 1.8591312170028687\tFinal validation loss: 2.117194890975952\n",
      "\n"
     ]
    }
   ],
   "execution_count": 13
  },
  {
   "cell_type": "markdown",
   "id": "bce73c70daeb4326",
   "metadata": {},
   "source": "**Plot the likelihood**"
  },
  {
   "cell_type": "code",
   "id": "78d4e14d9f5999b",
   "metadata": {
    "ExecuteTime": {
     "end_time": "2024-07-10T03:37:03.938302Z",
     "start_time": "2024-07-10T03:37:03.861216Z"
    }
   },
   "source": [
    "plt.plot(likelihood)"
   ],
   "outputs": [
    {
     "data": {
      "text/plain": [
       "[<matplotlib.lines.Line2D at 0x1e1c6cf6e10>]"
      ]
     },
     "execution_count": 14,
     "metadata": {},
     "output_type": "execute_result"
    },
    {
     "data": {
      "text/plain": [
       "<Figure size 640x480 with 1 Axes>"
      ],
      "image/png": "[encoded data removed]"
     },
     "metadata": {},
     "output_type": "display_data"
    }
   ],
   "execution_count": 14
  },
  {
   "cell_type": "markdown",
   "id": "fbc6826ab5e4b37f",
   "metadata": {},
   "source": [
    "**Sample from the model**"
   ]
  },
  {
   "cell_type": "code",
   "id": "7877442ef1219dda",
   "metadata": {
    "ExecuteTime": {
     "end_time": "2024-07-10T03:37:09.857669Z",
     "start_time": "2024-07-10T03:37:09.684435Z"
    }
   },
   "source": [
    "# Generate sequences\n",
    "for _ in range(12):\n",
    "    out = []\n",
    "    context = [1] * block_size\n",
    "    while True:\n",
    "        context_tensor = torch.tensor([context]).to(device)\n",
    "        logits = model(context_tensor)\n",
    "        probs = F.softmax(logits, dim=1)\n",
    "        ix = torch.multinomial(probs, num_samples=1).item()\n",
    "        context = context[1:] + [ix]\n",
    "        out.append(ix)\n",
    "        if ix == 1:\n",
    "            break\n",
    "\n",
    "    print(''.join(itos[i] for i in out))"
   ],
   "outputs": [
    {
     "name": "stdout",
     "output_type": "stream",
     "text": [
      "madise thoutlast affla layone.\n",
      "lakerco wish me aman.\n",
      "lizen.\n",
      "co one.\n",
      "the cmoh for nither girls.\n",
      "scarriage the wress.\n",
      "our stillet of mattemen wind.\n",
      "super love wind.\n",
      "the like a avaan.\n",
      "the flymer.\n",
      "stras.\n",
      "blgam inife.\n"
     ]
    }
   ],
   "execution_count": 15
  },
  {
   "cell_type": "markdown",
   "id": "8577a935e96b246b",
   "metadata": {},
   "source": [
    "**Save the final state**"
   ]
  },
  {
   "cell_type": "code",
   "id": "53aebb6bb92ded62",
   "metadata": {
    "ExecuteTime": {
     "end_time": "2024-07-10T03:40:23.648408Z",
     "start_time": "2024-07-10T03:40:23.635187Z"
    }
   },
   "source": [
    "# Save the final state\n",
    "torch.save(model.state_dict(), 'mlp_parameters.pth')"
   ],
   "outputs": [],
   "execution_count": 17
  },
  {
   "metadata": {},
   "cell_type": "code",
   "outputs": [],
   "execution_count": null,
   "source": "",
   "id": "b5684660fc8469c8"
  }
 ],
 "metadata": {
  "kernelspec": {
   "display_name": "Python 3 (ipykernel)",
   "language": "python",
   "name": "python3"
  },
  "language_info": {
   "codemirror_mode": {
    "name": "ipython",
    "version": 3
   },
   "file_extension": ".py",
   "mimetype": "text/x-python",
   "name": "python",
   "nbconvert_exporter": "python",
   "pygments_lexer": "ipython3",
   "version": "3.11.5"
  }
 },
 "nbformat": 4,
 "nbformat_minor": 5
}
